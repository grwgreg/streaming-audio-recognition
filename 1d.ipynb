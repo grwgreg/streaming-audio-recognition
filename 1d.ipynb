{
 "cells": [
  {
   "cell_type": "code",
   "execution_count": 1,
   "metadata": {},
   "outputs": [
    {
     "name": "stderr",
     "output_type": "stream",
     "text": [
      "Using TensorFlow backend.\n"
     ]
    }
   ],
   "source": [
    "%load_ext autoreload\n",
    "%autoreload 2\n",
    "#tensorboard doesn't work with keras it seems, needs tf.keras\n",
    "from preprocess import *\n",
    "from tensorflow import keras\n",
    "from tensorflow.keras.models import Sequential\n",
    "from tensorflow.keras.layers import (Convolution1D, GlobalAveragePooling1D, GlobalMaxPool1D, Dense, Dropout,\n",
    "                                     Flatten, Conv2D, MaxPooling2D, Input, MaxPool1D, concatenate)\n",
    "from tensorflow.keras.utils import to_categorical\n",
    "from tensorflow.keras.activations import relu, softmax\n",
    "from tensorflow.keras import losses, models, optimizers\n",
    "from tensorflow.keras.callbacks import TensorBoard\n",
    "import time  \n",
    "import matplotlib\n",
    "import matplotlib.pyplot as plt\n",
    "%matplotlib inline"
   ]
  },
  {
   "cell_type": "code",
   "execution_count": 2,
   "metadata": {},
   "outputs": [
    {
     "data": {
      "text/plain": [
       "(['shh', 'silence', 'ttt'], array([0, 1, 2]), array([[1., 0., 0.],\n",
       "        [0., 1., 0.],\n",
       "        [0., 0., 1.]], dtype=float32))"
      ]
     },
     "execution_count": 2,
     "metadata": {},
     "output_type": "execute_result"
    }
   ],
   "source": [
    "labels = get_labels('./data')  \n",
    "num_classes = len(labels[0])\n",
    "labels"
   ]
  },
  {
   "cell_type": "code",
   "execution_count": 3,
   "metadata": {},
   "outputs": [
    {
     "data": {
      "text/plain": [
       "16384"
      ]
     },
     "execution_count": 3,
     "metadata": {},
     "output_type": "execute_result"
    }
   ],
   "source": [
    "#len of longest .wav data\n",
    "max_sample_length = max_sample_len()\n",
    "max_sample_length"
   ]
  },
  {
   "cell_type": "code",
   "execution_count": 4,
   "metadata": {},
   "outputs": [
    {
     "name": "stderr",
     "output_type": "stream",
     "text": [
      "Saving vectors of label - 'shh': 100%|██████████| 260/260 [00:00<00:00, 3975.21it/s]\n",
      "Saving vectors of label - 'silence': 100%|██████████| 214/214 [00:00<00:00, 4506.04it/s]\n",
      "Saving vectors of label - 'ttt': 100%|██████████| 229/229 [00:00<00:00, 4660.77it/s]\n"
     ]
    }
   ],
   "source": [
    "save_raw_data_to_array()"
   ]
  },
  {
   "cell_type": "code",
   "execution_count": 5,
   "metadata": {},
   "outputs": [],
   "source": [
    "# # Loading train set and test set\n",
    "X_train, X_test, y_train, y_test = get_train_test()"
   ]
  },
  {
   "cell_type": "code",
   "execution_count": 6,
   "metadata": {},
   "outputs": [
    {
     "name": "stdout",
     "output_type": "stream",
     "text": [
      "(421, 16384)\n",
      "(421,)\n",
      "(282, 16384)\n",
      "(282,)\n"
     ]
    },
    {
     "data": {
      "text/plain": [
       "421"
      ]
     },
     "execution_count": 6,
     "metadata": {},
     "output_type": "execute_result"
    }
   ],
   "source": [
    "print(X_train.shape)\n",
    "print(y_train.shape)\n",
    "print(X_test.shape)\n",
    "print(y_test.shape)\n",
    "len(X_train)"
   ]
  },
  {
   "cell_type": "code",
   "execution_count": 7,
   "metadata": {},
   "outputs": [
    {
     "data": {
      "text/plain": [
       "array([[-2.4414062e-04, -2.1362305e-04, -1.2207031e-04, ...,\n",
       "         6.1035156e-05,  3.0517578e-05,  3.0517578e-05],\n",
       "       [-3.0517578e-04, -2.7465820e-04, -2.1362305e-04, ...,\n",
       "        -5.7983398e-04, -7.3242188e-04, -8.2397461e-04],\n",
       "       [ 3.0517578e-04,  3.0517578e-04,  2.7465820e-04, ...,\n",
       "         0.0000000e+00,  0.0000000e+00,  3.0517578e-05],\n",
       "       ...,\n",
       "       [-6.1035156e-05, -1.2207031e-04, -1.5258789e-04, ...,\n",
       "         9.1552734e-05,  6.1035156e-05,  3.0517578e-05],\n",
       "       [ 0.0000000e+00,  0.0000000e+00,  0.0000000e+00, ...,\n",
       "         0.0000000e+00,  0.0000000e+00,  0.0000000e+00],\n",
       "       [-2.7465820e-04, -2.1362305e-04, -1.8310547e-04, ...,\n",
       "         2.4414062e-04,  3.0517578e-04,  3.0517578e-04]], dtype=float32)"
      ]
     },
     "execution_count": 7,
     "metadata": {},
     "output_type": "execute_result"
    }
   ],
   "source": [
    "X_train[:20]"
   ]
  },
  {
   "cell_type": "code",
   "execution_count": 8,
   "metadata": {},
   "outputs": [
    {
     "data": {
      "text/plain": [
       "array([[0., 0., 1.],\n",
       "       [1., 0., 0.]], dtype=float32)"
      ]
     },
     "execution_count": 8,
     "metadata": {},
     "output_type": "execute_result"
    }
   ],
   "source": [
    "#ie [1,2,3] becomes [[1],[2],[3]]\n",
    "X_train = X_train.reshape(X_train.shape[0], X_train.shape[1], 1)\n",
    "X_test = X_test.reshape(X_test.shape[0], X_test.shape[1], 1)\n",
    "\n",
    "y_train_hot = to_categorical(y_train)\n",
    "y_test_hot = to_categorical(y_test)\n",
    "\n",
    "y_test_hot[:2]"
   ]
  },
  {
   "cell_type": "code",
   "execution_count": 9,
   "metadata": {},
   "outputs": [
    {
     "data": {
      "text/plain": [
       "array([[[-2.4414062e-04],\n",
       "        [-2.1362305e-04],\n",
       "        [-1.2207031e-04],\n",
       "        ...,\n",
       "        [ 6.1035156e-05],\n",
       "        [ 3.0517578e-05],\n",
       "        [ 3.0517578e-05]],\n",
       "\n",
       "       [[-3.0517578e-04],\n",
       "        [-2.7465820e-04],\n",
       "        [-2.1362305e-04],\n",
       "        ...,\n",
       "        [-5.7983398e-04],\n",
       "        [-7.3242188e-04],\n",
       "        [-8.2397461e-04]],\n",
       "\n",
       "       [[ 3.0517578e-04],\n",
       "        [ 3.0517578e-04],\n",
       "        [ 2.7465820e-04],\n",
       "        ...,\n",
       "        [ 0.0000000e+00],\n",
       "        [ 0.0000000e+00],\n",
       "        [ 3.0517578e-05]],\n",
       "\n",
       "       ...,\n",
       "\n",
       "       [[-6.1035156e-05],\n",
       "        [-1.2207031e-04],\n",
       "        [-1.5258789e-04],\n",
       "        ...,\n",
       "        [ 9.1552734e-05],\n",
       "        [ 6.1035156e-05],\n",
       "        [ 3.0517578e-05]],\n",
       "\n",
       "       [[ 0.0000000e+00],\n",
       "        [ 0.0000000e+00],\n",
       "        [ 0.0000000e+00],\n",
       "        ...,\n",
       "        [ 0.0000000e+00],\n",
       "        [ 0.0000000e+00],\n",
       "        [ 0.0000000e+00]],\n",
       "\n",
       "       [[-2.7465820e-04],\n",
       "        [-2.1362305e-04],\n",
       "        [-1.8310547e-04],\n",
       "        ...,\n",
       "        [ 2.4414062e-04],\n",
       "        [ 3.0517578e-04],\n",
       "        [ 3.0517578e-04]]], dtype=float32)"
      ]
     },
     "execution_count": 9,
     "metadata": {},
     "output_type": "execute_result"
    }
   ],
   "source": [
    "X_train[:20]"
   ]
  },
  {
   "cell_type": "code",
   "execution_count": 10,
   "metadata": {},
   "outputs": [
    {
     "name": "stdout",
     "output_type": "stream",
     "text": [
      "(421, 16384, 1)\n",
      "(421,)\n",
      "(282, 16384, 1)\n",
      "(282,)\n",
      "(421, 3)\n"
     ]
    }
   ],
   "source": [
    "print(X_train.shape)\n",
    "print(y_train.shape)\n",
    "print(X_test.shape)\n",
    "print(y_test.shape)\n",
    "print(y_train_hot.shape)#2nd dim is the number of labels"
   ]
  },
  {
   "cell_type": "code",
   "execution_count": 11,
   "metadata": {},
   "outputs": [],
   "source": [
    "max_data = np.max(X_train)\n",
    "min_data = np.min(X_train)\n",
    "def audio_norm(data, max_data, min_data):\n",
    "    data = (data-min_data)/(max_data-min_data+1e-6)\n",
    "    return data-0.5"
   ]
  },
  {
   "cell_type": "code",
   "execution_count": 12,
   "metadata": {},
   "outputs": [
    {
     "data": {
      "text/plain": [
       "array([[[-1.8310547e-04],\n",
       "        [-1.8310547e-04],\n",
       "        [-2.4414062e-04],\n",
       "        ...,\n",
       "        [-3.6621094e-04],\n",
       "        [-3.3569336e-04],\n",
       "        [-3.6621094e-04]],\n",
       "\n",
       "       [[-1.5258789e-04],\n",
       "        [-2.4414062e-04],\n",
       "        [-2.4414062e-04],\n",
       "        ...,\n",
       "        [ 9.1552734e-05],\n",
       "        [ 6.1035156e-05],\n",
       "        [ 6.1035156e-05]],\n",
       "\n",
       "       [[ 0.0000000e+00],\n",
       "        [ 0.0000000e+00],\n",
       "        [ 0.0000000e+00],\n",
       "        ...,\n",
       "        [ 0.0000000e+00],\n",
       "        [ 0.0000000e+00],\n",
       "        [ 0.0000000e+00]],\n",
       "\n",
       "       ...,\n",
       "\n",
       "       [[ 1.8310547e-04],\n",
       "        [-6.1035156e-05],\n",
       "        [-2.1362305e-04],\n",
       "        ...,\n",
       "        [ 7.9345703e-04],\n",
       "        [ 4.5776367e-04],\n",
       "        [ 6.4086914e-04]],\n",
       "\n",
       "       [[ 6.1035156e-05],\n",
       "        [ 9.1552734e-05],\n",
       "        [ 9.1552734e-05],\n",
       "        ...,\n",
       "        [-6.1035156e-05],\n",
       "        [-6.1035156e-05],\n",
       "        [-1.5258789e-04]],\n",
       "\n",
       "       [[ 0.0000000e+00],\n",
       "        [ 0.0000000e+00],\n",
       "        [ 0.0000000e+00],\n",
       "        ...,\n",
       "        [-2.4414062e-04],\n",
       "        [-2.1362305e-04],\n",
       "        [-2.1362305e-04]]], dtype=float32)"
      ]
     },
     "execution_count": 12,
     "metadata": {},
     "output_type": "execute_result"
    }
   ],
   "source": [
    "X_test[:20]"
   ]
  },
  {
   "cell_type": "code",
   "execution_count": 13,
   "metadata": {},
   "outputs": [
    {
     "data": {
      "text/plain": [
       "array([[[0.01105839],\n",
       "        [0.01105839],\n",
       "        [0.01095694],\n",
       "        ...,\n",
       "        [0.01075399],\n",
       "        [0.01080471],\n",
       "        [0.01075399]],\n",
       "\n",
       "       [[0.01110911],\n",
       "        [0.01095694],\n",
       "        [0.01095694],\n",
       "        ...,\n",
       "        [0.01151496],\n",
       "        [0.01146424],\n",
       "        [0.01146424]],\n",
       "\n",
       "       [[0.01136279],\n",
       "        [0.01136279],\n",
       "        [0.01136279],\n",
       "        ...,\n",
       "        [0.01136279],\n",
       "        [0.01136279],\n",
       "        [0.01136279]],\n",
       "\n",
       "       ...,\n",
       "\n",
       "       [[0.01166713],\n",
       "        [0.01126128],\n",
       "        [0.01100767],\n",
       "        ...,\n",
       "        [0.01268178],\n",
       "        [0.0121237 ],\n",
       "        [0.0124281 ]],\n",
       "\n",
       "       [[0.01146424],\n",
       "        [0.01151496],\n",
       "        [0.01151496],\n",
       "        ...,\n",
       "        [0.01126128],\n",
       "        [0.01126128],\n",
       "        [0.01110911]],\n",
       "\n",
       "       [[0.01136279],\n",
       "        [0.01136279],\n",
       "        [0.01136279],\n",
       "        ...,\n",
       "        [0.01095694],\n",
       "        [0.01100767],\n",
       "        [0.01100767]]], dtype=float32)"
      ]
     },
     "execution_count": 13,
     "metadata": {},
     "output_type": "execute_result"
    }
   ],
   "source": [
    "X_train = audio_norm(X_train, max_data, min_data)\n",
    "X_test = audio_norm(X_test, max_data, min_data)\n",
    "X_test[:20]"
   ]
  },
  {
   "cell_type": "code",
   "execution_count": 14,
   "metadata": {},
   "outputs": [],
   "source": [
    "def get_1d_conv_model(input_length):\n",
    "    \n",
    "    \n",
    "    inp = Input(shape=(input_length,1))\n",
    "   \n",
    "    x = Convolution1D(16, 9, activation=relu, padding=\"valid\")(inp)\n",
    "    x = Convolution1D(16, 9, activation=relu, padding=\"valid\")(x)\n",
    "    x = MaxPool1D(16)(x)\n",
    "    x = Dropout(rate=0.1)(x)\n",
    "    \n",
    "    x = Convolution1D(32, 3, activation=relu, padding=\"valid\")(x)\n",
    "    x = Convolution1D(32, 3, activation=relu, padding=\"valid\")(x)\n",
    "    x = MaxPool1D(4)(x)\n",
    "    x = Dropout(rate=0.1)(x)\n",
    "    \n",
    "    x = Convolution1D(128, 3, activation=relu, padding=\"valid\")(x)\n",
    "    x = Convolution1D(128, 3, activation=relu, padding=\"valid\")(x)\n",
    "    x = GlobalMaxPool1D()(x)\n",
    "    x = Dropout(rate=0.2)(x)\n",
    "\n",
    "    x = Dense(32, activation=relu)(x)\n",
    "    x = Dense(256, activation=relu)(x)\n",
    "    out = Dense(num_classes, activation=softmax)(x)\n",
    "\n",
    "    model = models.Model(inputs=inp, outputs=out)\n",
    "    opt = optimizers.Adam(0.001)\n",
    "\n",
    "    model.compile(optimizer=opt, loss=losses.categorical_crossentropy, metrics=['acc'])\n",
    "    return model"
   ]
  },
  {
   "cell_type": "markdown",
   "metadata": {},
   "source": [
    "# Building The Model Then Training it"
   ]
  },
  {
   "cell_type": "code",
   "execution_count": 15,
   "metadata": {},
   "outputs": [
    {
     "data": {
      "text/plain": [
       "<tensorflow.python.keras.callbacks.TensorBoard at 0x7fae548b4710>"
      ]
     },
     "execution_count": 15,
     "metadata": {},
     "output_type": "execute_result"
    }
   ],
   "source": [
    "NAME = \"1dconv{}\".format(int(time.time()))\n",
    "tensorboard_cb = TensorBoard(log_dir=\"logs/{}\".format(NAME), histogram_freq=1)\n",
    "%load_ext tensorboard\n",
    "tensorboard_cb"
   ]
  },
  {
   "cell_type": "code",
   "execution_count": 16,
   "metadata": {},
   "outputs": [
    {
     "name": "stdout",
     "output_type": "stream",
     "text": [
      "Train on 421 samples, validate on 282 samples\n",
      "Epoch 1/17\n",
      "421/421 [==============================] - 5s 12ms/sample - loss: 1.0955 - acc: 0.3325 - val_loss: 1.0801 - val_acc: 0.4574\n",
      "Epoch 2/17\n",
      "421/421 [==============================] - 4s 10ms/sample - loss: 1.0651 - acc: 0.3634 - val_loss: 0.9918 - val_acc: 0.4433\n",
      "Epoch 3/17\n",
      "421/421 [==============================] - 4s 10ms/sample - loss: 0.9552 - acc: 0.3492 - val_loss: 0.7859 - val_acc: 0.4681\n",
      "Epoch 4/17\n",
      "421/421 [==============================] - 4s 10ms/sample - loss: 0.8326 - acc: 0.5914 - val_loss: 0.7064 - val_acc: 0.7518\n",
      "Epoch 5/17\n",
      "421/421 [==============================] - 4s 10ms/sample - loss: 0.7692 - acc: 0.7055 - val_loss: 0.6494 - val_acc: 0.8050\n",
      "Epoch 6/17\n",
      "421/421 [==============================] - 4s 10ms/sample - loss: 0.7405 - acc: 0.6556 - val_loss: 0.6557 - val_acc: 0.6702\n",
      "Epoch 7/17\n",
      "421/421 [==============================] - 4s 11ms/sample - loss: 0.7230 - acc: 0.6817 - val_loss: 0.6172 - val_acc: 0.6773\n",
      "Epoch 8/17\n",
      "421/421 [==============================] - 4s 11ms/sample - loss: 0.6698 - acc: 0.6366 - val_loss: 0.5177 - val_acc: 0.7057\n",
      "Epoch 9/17\n",
      "421/421 [==============================] - 5s 11ms/sample - loss: 0.5837 - acc: 0.6817 - val_loss: 0.4955 - val_acc: 0.9326\n",
      "Epoch 10/17\n",
      "421/421 [==============================] - 4s 10ms/sample - loss: 0.4732 - acc: 0.7933 - val_loss: 0.3013 - val_acc: 0.9858\n",
      "Epoch 11/17\n",
      "421/421 [==============================] - 4s 10ms/sample - loss: 0.3635 - acc: 0.9477 - val_loss: 0.2499 - val_acc: 0.9255\n",
      "Epoch 12/17\n",
      "421/421 [==============================] - 4s 10ms/sample - loss: 0.2542 - acc: 0.9501 - val_loss: 0.2070 - val_acc: 0.9113\n",
      "Epoch 13/17\n",
      "421/421 [==============================] - 5s 11ms/sample - loss: 0.2344 - acc: 0.9501 - val_loss: 0.2542 - val_acc: 0.8759\n",
      "Epoch 14/17\n",
      "421/421 [==============================] - 5s 11ms/sample - loss: 0.2685 - acc: 0.9050 - val_loss: 0.2423 - val_acc: 0.8972\n",
      "Epoch 15/17\n",
      "421/421 [==============================] - 4s 10ms/sample - loss: 0.2263 - acc: 0.9406 - val_loss: 0.0873 - val_acc: 0.9787\n",
      "Epoch 16/17\n",
      "421/421 [==============================] - 4s 11ms/sample - loss: 0.1558 - acc: 0.9644 - val_loss: 0.1152 - val_acc: 0.9645\n",
      "Epoch 17/17\n",
      "421/421 [==============================] - 4s 11ms/sample - loss: 0.1606 - acc: 0.9644 - val_loss: 0.0892 - val_acc: 0.9752\n"
     ]
    },
    {
     "data": {
      "text/plain": [
       "<tensorflow.python.keras.callbacks.History at 0x7fae446bcc18>"
      ]
     },
     "execution_count": 16,
     "metadata": {},
     "output_type": "execute_result"
    }
   ],
   "source": [
    "model = get_1d_conv_model(X_train.shape[1])\n",
    "model.fit(X_train, y_train_hot, batch_size=100, epochs=17, verbose=True, validation_data=(X_test, y_test_hot), callbacks=[tensorboard_cb])"
   ]
  },
  {
   "cell_type": "code",
   "execution_count": null,
   "metadata": {},
   "outputs": [],
   "source": [
    "%tensorboard --logdir logs/ --bind_all"
   ]
  },
  {
   "cell_type": "code",
   "execution_count": 19,
   "metadata": {},
   "outputs": [
    {
     "data": {
      "text/plain": [
       "'1dconv1584402278'"
      ]
     },
     "execution_count": 19,
     "metadata": {},
     "output_type": "execute_result"
    }
   ],
   "source": [
    "save_stats(NAME, max_data=max_data, min_data=min_data)\n",
    "save_model(model, NAME)\n",
    "NAME"
   ]
  },
  {
   "cell_type": "markdown",
   "metadata": {},
   "source": [
    "## Prediction"
   ]
  },
  {
   "cell_type": "code",
   "execution_count": 18,
   "metadata": {},
   "outputs": [
    {
     "name": "stdout",
     "output_type": "stream",
     "text": [
      "shh\n"
     ]
    }
   ],
   "source": [
    "def predict(filepath, model):\n",
    "    wave, sr = librosa.load(filepath, mono=True, sr=16000)\n",
    "    wave = random_pad(wave, max_sample_length)\n",
    "    wave = audio_norm(wave, max_data, min_data)\n",
    "    wave = wave.reshape(1, wave.shape[0], 1)\n",
    "    return get_labels()[0][\n",
    "            np.argmax(model.predict(wave))\n",
    "    ]\n",
    "print(predict('./data/shh/W9M3W3YR2.wav', model=model))"
   ]
  },
  {
   "cell_type": "code",
   "execution_count": null,
   "metadata": {},
   "outputs": [],
   "source": []
  }
 ],
 "metadata": {
  "kernelspec": {
   "display_name": "Python 3",
   "language": "python",
   "name": "python3"
  },
  "language_info": {
   "codemirror_mode": {
    "name": "ipython",
    "version": 3
   },
   "file_extension": ".py",
   "mimetype": "text/x-python",
   "name": "python",
   "nbconvert_exporter": "python",
   "pygments_lexer": "ipython3",
   "version": "3.6.9"
  }
 },
 "nbformat": 4,
 "nbformat_minor": 2
}
