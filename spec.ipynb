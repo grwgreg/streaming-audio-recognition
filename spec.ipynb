{
 "cells": [
  {
   "cell_type": "code",
   "execution_count": 1,
   "metadata": {},
   "outputs": [
    {
     "name": "stderr",
     "output_type": "stream",
     "text": [
      "Using TensorFlow backend.\n"
     ]
    }
   ],
   "source": [
    "%load_ext autoreload\n",
    "%autoreload 2\n",
    "#tensorboard doesn't work with keras model callbacks! it seems, needs tf.keras\n",
    "from preprocess import *\n",
    "#import keras\n",
    "from tensorflow import keras\n",
    "from tensorflow.keras.models import Sequential\n",
    "from tensorflow.keras.layers import (Dense, Dropout, Flatten, Convolution2D, GlobalAveragePooling2D, BatchNormalization, Flatten,\n",
    "                          GlobalMaxPool2D, MaxPool2D, concatenate, Activation, Input)\n",
    "from tensorflow.keras import losses, models, optimizers\n",
    "from tensorflow.keras.activations import relu, softmax\n",
    "from tensorflow.keras.utils import to_categorical\n",
    "from tensorflow.keras.callbacks import TensorBoard\n",
    "import time  \n",
    "import matplotlib\n",
    "import matplotlib.pyplot as plt\n",
    "%matplotlib inline"
   ]
  },
  {
   "cell_type": "code",
   "execution_count": 2,
   "metadata": {},
   "outputs": [
    {
     "data": {
      "text/plain": [
       "(['shh', 'silence', 'ttt'], array([0, 1, 2]), array([[1., 0., 0.],\n",
       "        [0., 1., 0.],\n",
       "        [0., 0., 1.]], dtype=float32))"
      ]
     },
     "execution_count": 2,
     "metadata": {},
     "output_type": "execute_result"
    }
   ],
   "source": [
    "labels = get_labels('./data')  \n",
    "num_classes = len(labels[0])\n",
    "labels"
   ]
  },
  {
   "cell_type": "code",
   "execution_count": 3,
   "metadata": {},
   "outputs": [],
   "source": [
    "#len of longest .wav data\n",
    "max_sample_length = max_sample_len()"
   ]
  },
  {
   "cell_type": "code",
   "execution_count": 4,
   "metadata": {},
   "outputs": [
    {
     "name": "stderr",
     "output_type": "stream",
     "text": [
      "Saving spectrograms of label - 'shh': 100%|██████████| 260/260 [00:01<00:00, 235.42it/s]\n",
      "Saving spectrograms of label - 'silence': 100%|██████████| 214/214 [00:00<00:00, 222.98it/s]\n",
      "Saving spectrograms of label - 'ttt': 100%|██████████| 229/229 [00:01<00:00, 190.45it/s]\n"
     ]
    }
   ],
   "source": [
    "save_spec_data_to_array()"
   ]
  },
  {
   "cell_type": "code",
   "execution_count": 5,
   "metadata": {},
   "outputs": [],
   "source": [
    "X_train, X_test, y_train, y_test = get_train_test()  \n"
   ]
  },
  {
   "cell_type": "code",
   "execution_count": 6,
   "metadata": {},
   "outputs": [
    {
     "name": "stdout",
     "output_type": "stream",
     "text": [
      "(421, 128, 33)\n",
      "(421,)\n",
      "(282, 128, 33)\n",
      "(282,)\n"
     ]
    },
    {
     "data": {
      "text/plain": [
       "421"
      ]
     },
     "execution_count": 6,
     "metadata": {},
     "output_type": "execute_result"
    }
   ],
   "source": [
    "print(X_train.shape)\n",
    "print(y_train.shape)\n",
    "print(X_test.shape)\n",
    "print(y_test.shape)\n",
    "len(X_train)"
   ]
  },
  {
   "cell_type": "code",
   "execution_count": 7,
   "metadata": {},
   "outputs": [],
   "source": [
    "X_train = X_train.reshape(X_train.shape[0], X_train.shape[1], X_train.shape[2], 1)\n",
    "X_test = X_test.reshape(X_test.shape[0], X_test.shape[1], X_test.shape[2], 1)\n",
    "\n",
    "y_train_hot = to_categorical(y_train)\n",
    "y_test_hot = to_categorical(y_test)"
   ]
  },
  {
   "cell_type": "code",
   "execution_count": 8,
   "metadata": {},
   "outputs": [
    {
     "name": "stdout",
     "output_type": "stream",
     "text": [
      "(421, 128, 33, 1)\n",
      "(421,)\n",
      "(282, 128, 33, 1)\n",
      "(282,)\n",
      "(421, 3)\n"
     ]
    }
   ],
   "source": [
    "print(X_train.shape)\n",
    "print(y_train.shape)\n",
    "print(X_test.shape)\n",
    "print(y_test.shape)\n",
    "print(y_train_hot.shape)#2nd dim is the number of labels"
   ]
  },
  {
   "cell_type": "code",
   "execution_count": 9,
   "metadata": {},
   "outputs": [],
   "source": [
    "#this is done in kaggle tutorial... if we do this do we have to normalize inputs for prediction too? sure right?\n",
    "mean = np.mean(X_train, axis=0)\n",
    "std = np.std(X_train, axis=0)\n",
    "\n",
    "X_train = (X_train - mean)/std\n",
    "X_test = (X_test - mean)/std"
   ]
  },
  {
   "cell_type": "code",
   "execution_count": 10,
   "metadata": {},
   "outputs": [
    {
     "data": {
      "text/plain": [
       "array([[[[-1.1079783 ],\n",
       "         [-0.62152505],\n",
       "         [-0.58889484],\n",
       "         ...,\n",
       "         [ 1.4605029 ],\n",
       "         [ 1.4033936 ],\n",
       "         [ 0.84169436]],\n",
       "\n",
       "        [[-0.23813267],\n",
       "         [-0.44308943],\n",
       "         [-0.47158659],\n",
       "         ...,\n",
       "         [ 1.5998737 ],\n",
       "         [ 1.5462843 ],\n",
       "         [ 0.8503454 ]],\n",
       "\n",
       "        [[-0.22090648],\n",
       "         [-0.4004413 ],\n",
       "         [-0.45001847],\n",
       "         ...,\n",
       "         [ 1.2819482 ],\n",
       "         [ 1.2678732 ],\n",
       "         [ 0.6224366 ]],\n",
       "\n",
       "        ...,\n",
       "\n",
       "        [[-1.1158917 ],\n",
       "         [-1.0337932 ],\n",
       "         [-0.9292683 ],\n",
       "         ...,\n",
       "         [ 2.2837095 ],\n",
       "         [ 2.1776128 ],\n",
       "         [ 1.4857608 ]],\n",
       "\n",
       "        [[-0.87750953],\n",
       "         [-0.9771985 ],\n",
       "         [-1.0367979 ],\n",
       "         ...,\n",
       "         [ 2.314654  ],\n",
       "         [ 2.1202824 ],\n",
       "         [ 1.3678461 ]],\n",
       "\n",
       "        [[-0.7339898 ],\n",
       "         [-0.8073064 ],\n",
       "         [-0.87210655],\n",
       "         ...,\n",
       "         [ 2.3506005 ],\n",
       "         [ 2.08753   ],\n",
       "         [ 1.1982627 ]]],\n",
       "\n",
       "\n",
       "       [[[-1.1496819 ],\n",
       "         [-0.91136014],\n",
       "         [-0.7426086 ],\n",
       "         ...,\n",
       "         [-1.4089115 ],\n",
       "         [-1.4583474 ],\n",
       "         [-1.1365393 ]],\n",
       "\n",
       "        [[-0.56582206],\n",
       "         [-0.61307067],\n",
       "         [-0.69540673],\n",
       "         ...,\n",
       "         [-0.6779097 ],\n",
       "         [-0.5337991 ],\n",
       "         [-0.4941526 ]],\n",
       "\n",
       "        [[-0.45022795],\n",
       "         [-0.53318053],\n",
       "         [-0.699027  ],\n",
       "         ...,\n",
       "         [-0.5657014 ],\n",
       "         [-0.49914467],\n",
       "         [-0.28294313]],\n",
       "\n",
       "        ...,\n",
       "\n",
       "        [[-0.9628751 ],\n",
       "         [-0.995113  ],\n",
       "         [-0.86667746],\n",
       "         ...,\n",
       "         [-1.0332313 ],\n",
       "         [-0.9580909 ],\n",
       "         [-0.94680005]],\n",
       "\n",
       "        [[-1.0127867 ],\n",
       "         [-0.9974217 ],\n",
       "         [-0.86109793],\n",
       "         ...,\n",
       "         [-0.9464317 ],\n",
       "         [-0.90189606],\n",
       "         [-0.8767275 ]],\n",
       "\n",
       "        [[-0.9908641 ],\n",
       "         [-0.9123129 ],\n",
       "         [-0.88122886],\n",
       "         ...,\n",
       "         [-0.86691827],\n",
       "         [-0.8558718 ],\n",
       "         [-0.8559269 ]]],\n",
       "\n",
       "\n",
       "       [[[-1.3039483 ],\n",
       "         [-1.0807664 ],\n",
       "         [-1.1063468 ],\n",
       "         ...,\n",
       "         [-3.7176075 ],\n",
       "         [-3.466745  ],\n",
       "         [-3.2013376 ]],\n",
       "\n",
       "        [[-1.0308567 ],\n",
       "         [-0.72821295],\n",
       "         [-0.717589  ],\n",
       "         ...,\n",
       "         [-3.5670965 ],\n",
       "         [-3.4084606 ],\n",
       "         [-3.2097874 ]],\n",
       "\n",
       "        [[-1.1010934 ],\n",
       "         [-0.8859332 ],\n",
       "         [-0.5900873 ],\n",
       "         ...,\n",
       "         [-3.551308  ],\n",
       "         [-3.3908913 ],\n",
       "         [-3.214087  ]],\n",
       "\n",
       "        ...,\n",
       "\n",
       "        [[-1.2639645 ],\n",
       "         [-0.5915397 ],\n",
       "         [ 0.59897155],\n",
       "         ...,\n",
       "         [-1.3707477 ],\n",
       "         [-1.3217916 ],\n",
       "         [-1.2849828 ]],\n",
       "\n",
       "        [[-1.1012924 ],\n",
       "         [-0.5112148 ],\n",
       "         [ 0.60550034],\n",
       "         ...,\n",
       "         [-1.3331213 ],\n",
       "         [-1.2799376 ],\n",
       "         [-1.2528923 ]],\n",
       "\n",
       "        [[-1.2197081 ],\n",
       "         [-0.84019905],\n",
       "         [ 0.40806994],\n",
       "         ...,\n",
       "         [-1.3044735 ],\n",
       "         [-1.2731733 ],\n",
       "         [-1.2576798 ]]],\n",
       "\n",
       "\n",
       "       ...,\n",
       "\n",
       "\n",
       "       [[[-0.8240908 ],\n",
       "         [-0.95786893],\n",
       "         [-1.2612134 ],\n",
       "         ...,\n",
       "         [-0.41395247],\n",
       "         [-0.42907876],\n",
       "         [-0.42811358]],\n",
       "\n",
       "        [[-1.112851  ],\n",
       "         [-1.148221  ],\n",
       "         [-1.1988794 ],\n",
       "         ...,\n",
       "         [-0.4855645 ],\n",
       "         [-0.28490245],\n",
       "         [-0.41911638]],\n",
       "\n",
       "        [[-1.0716978 ],\n",
       "         [-1.1541345 ],\n",
       "         [-1.2065389 ],\n",
       "         ...,\n",
       "         [-0.4589419 ],\n",
       "         [-0.5491399 ],\n",
       "         [-0.602559  ]],\n",
       "\n",
       "        ...,\n",
       "\n",
       "        [[-1.3546245 ],\n",
       "         [-1.3679768 ],\n",
       "         [-1.3364736 ],\n",
       "         ...,\n",
       "         [ 0.7869016 ],\n",
       "         [ 0.60492164],\n",
       "         [ 0.53453124]],\n",
       "\n",
       "        [[-1.3148205 ],\n",
       "         [-1.3407413 ],\n",
       "         [-1.3060552 ],\n",
       "         ...,\n",
       "         [ 0.5955233 ],\n",
       "         [ 0.43677092],\n",
       "         [ 0.301987  ]],\n",
       "\n",
       "        [[-1.3187083 ],\n",
       "         [-1.3309504 ],\n",
       "         [-1.2705526 ],\n",
       "         ...,\n",
       "         [ 0.3411984 ],\n",
       "         [ 0.19773695],\n",
       "         [ 0.0329914 ]]],\n",
       "\n",
       "\n",
       "       [[[-0.38084945],\n",
       "         [-0.37314272],\n",
       "         [-0.22152556],\n",
       "         ...,\n",
       "         [-1.0049722 ],\n",
       "         [-0.9870976 ],\n",
       "         [-0.88252866]],\n",
       "\n",
       "        [[-0.40104327],\n",
       "         [-0.22921173],\n",
       "         [-0.11660001],\n",
       "         ...,\n",
       "         [-0.3020515 ],\n",
       "         [-0.2645379 ],\n",
       "         [-0.23772985]],\n",
       "\n",
       "        [[-0.11832416],\n",
       "         [-0.11987468],\n",
       "         [-0.09488004],\n",
       "         ...,\n",
       "         [-0.24368815],\n",
       "         [-0.24976921],\n",
       "         [-0.23814586]],\n",
       "\n",
       "        ...,\n",
       "\n",
       "        [[-0.43998313],\n",
       "         [-0.4852694 ],\n",
       "         [-0.40500703],\n",
       "         ...,\n",
       "         [-0.5235023 ],\n",
       "         [-0.49709266],\n",
       "         [-0.4603785 ]],\n",
       "\n",
       "        [[-0.4505289 ],\n",
       "         [-0.39374986],\n",
       "         [-0.39890364],\n",
       "         ...,\n",
       "         [-0.66109586],\n",
       "         [-0.6166238 ],\n",
       "         [-0.5592445 ]],\n",
       "\n",
       "        [[-0.42217806],\n",
       "         [-0.31793115],\n",
       "         [-0.28054264],\n",
       "         ...,\n",
       "         [-0.5672339 ],\n",
       "         [-0.4994323 ],\n",
       "         [-0.44835827]]],\n",
       "\n",
       "\n",
       "       [[[ 0.66347617],\n",
       "         [ 1.0268788 ],\n",
       "         [ 1.1838807 ],\n",
       "         ...,\n",
       "         [-0.38422   ],\n",
       "         [-0.4690065 ],\n",
       "         [-0.38492385]],\n",
       "\n",
       "        [[ 0.7635526 ],\n",
       "         [ 0.73034793],\n",
       "         [ 1.0507094 ],\n",
       "         ...,\n",
       "         [-0.43678996],\n",
       "         [-0.39639032],\n",
       "         [-0.15042555]],\n",
       "\n",
       "        [[ 0.5461524 ],\n",
       "         [ 0.5292928 ],\n",
       "         [ 0.83699477],\n",
       "         ...,\n",
       "         [-0.37465677],\n",
       "         [-0.39579654],\n",
       "         [-0.2429863 ]],\n",
       "\n",
       "        ...,\n",
       "\n",
       "        [[-0.4354264 ],\n",
       "         [-0.54364383],\n",
       "         [-0.5097803 ],\n",
       "         ...,\n",
       "         [-0.51288164],\n",
       "         [-0.46215537],\n",
       "         [-0.3634891 ]],\n",
       "\n",
       "        [[-0.56841946],\n",
       "         [-0.5940716 ],\n",
       "         [-0.47864753],\n",
       "         ...,\n",
       "         [-0.5303637 ],\n",
       "         [-0.593685  ],\n",
       "         [-0.5566583 ]],\n",
       "\n",
       "        [[-0.5659337 ],\n",
       "         [-0.51343095],\n",
       "         [-0.44689736],\n",
       "         ...,\n",
       "         [-0.5920118 ],\n",
       "         [-0.6488492 ],\n",
       "         [-0.7781033 ]]]], dtype=float32)"
      ]
     },
     "execution_count": 10,
     "metadata": {},
     "output_type": "execute_result"
    }
   ],
   "source": [
    "X_test[:20]"
   ]
  },
  {
   "cell_type": "code",
   "execution_count": 11,
   "metadata": {},
   "outputs": [],
   "source": [
    "#modified kaggle tut, https://www.kaggle.com/fizzbuzz/beginner-s-guide-to-audio-data\n",
    "def get_2d_conv_model(training_shape):\n",
    "    \n",
    "    inp = Input(shape=(training_shape[1], training_shape[2], 1))\n",
    "    x = Convolution2D(64, (4,10), padding=\"same\")(inp)\n",
    "    x = BatchNormalization()(x)\n",
    "    x = Activation(\"relu\")(x)\n",
    "    x = MaxPool2D()(x)\n",
    "    \n",
    "    x = Flatten()(x)\n",
    "    x = Dense(128)(x)\n",
    "    x = BatchNormalization()(x)\n",
    "    x = Activation(\"relu\")(x)\n",
    "    out = Dense(num_classes, activation=softmax)(x)\n",
    "\n",
    "    model = models.Model(inputs=inp, outputs=out)\n",
    "    opt = optimizers.Adam(0.001)#learning rate\n",
    "\n",
    "    model.compile(optimizer=opt, loss=losses.categorical_crossentropy, metrics=['acc'])\n",
    "    return model"
   ]
  },
  {
   "cell_type": "markdown",
   "metadata": {},
   "source": [
    "# Building The Model Then Training it"
   ]
  },
  {
   "cell_type": "code",
   "execution_count": 12,
   "metadata": {},
   "outputs": [
    {
     "data": {
      "text/plain": [
       "<tensorflow.python.keras.callbacks.TensorBoard at 0x7f742fbf9b00>"
      ]
     },
     "execution_count": 12,
     "metadata": {},
     "output_type": "execute_result"
    }
   ],
   "source": [
    "#NAME = \"{}-conv-{}-nodes-{}-dense-{}\".format(conv_layer, layer_size, dense_layer, int(time.time()))\n",
    "NAME = \"specmodel{}\".format(int(time.time()))\n",
    "tensorboard_cb = TensorBoard(log_dir=\"logs/{}\".format(NAME), histogram_freq=1)\n",
    "%load_ext tensorboard\n",
    "tensorboard_cb"
   ]
  },
  {
   "cell_type": "code",
   "execution_count": 13,
   "metadata": {
    "scrolled": true
   },
   "outputs": [
    {
     "name": "stdout",
     "output_type": "stream",
     "text": [
      "Train on 421 samples, validate on 282 samples\n",
      "Epoch 1/12\n",
      "421/421 [==============================] - 3s 7ms/sample - loss: 0.8680 - acc: 0.6271 - val_loss: 1.7176 - val_acc: 0.7021\n",
      "Epoch 2/12\n",
      "421/421 [==============================] - 3s 6ms/sample - loss: 0.4634 - acc: 0.8504 - val_loss: 0.9922 - val_acc: 0.7128\n",
      "Epoch 3/12\n",
      "421/421 [==============================] - 3s 6ms/sample - loss: 0.3282 - acc: 0.9026 - val_loss: 0.6908 - val_acc: 0.7270\n",
      "Epoch 4/12\n",
      "421/421 [==============================] - 3s 6ms/sample - loss: 0.2534 - acc: 0.9287 - val_loss: 0.5041 - val_acc: 0.7943\n",
      "Epoch 5/12\n",
      "421/421 [==============================] - 3s 6ms/sample - loss: 0.1980 - acc: 0.9430 - val_loss: 0.3968 - val_acc: 0.8582\n",
      "Epoch 6/12\n",
      "421/421 [==============================] - 3s 6ms/sample - loss: 0.1596 - acc: 0.9667 - val_loss: 0.3324 - val_acc: 0.8865\n",
      "Epoch 7/12\n",
      "421/421 [==============================] - 3s 6ms/sample - loss: 0.1201 - acc: 0.9691 - val_loss: 0.2879 - val_acc: 0.9078\n",
      "Epoch 8/12\n",
      "421/421 [==============================] - 3s 6ms/sample - loss: 0.1014 - acc: 0.9810 - val_loss: 0.2666 - val_acc: 0.9362\n",
      "Epoch 9/12\n",
      "421/421 [==============================] - 3s 6ms/sample - loss: 0.0896 - acc: 0.9834 - val_loss: 0.2545 - val_acc: 0.9433\n",
      "Epoch 10/12\n",
      "421/421 [==============================] - 3s 6ms/sample - loss: 0.0600 - acc: 0.9905 - val_loss: 0.2519 - val_acc: 0.9574\n",
      "Epoch 11/12\n",
      "421/421 [==============================] - 3s 6ms/sample - loss: 0.0630 - acc: 0.9952 - val_loss: 0.2594 - val_acc: 0.9574\n",
      "Epoch 12/12\n",
      "421/421 [==============================] - 3s 6ms/sample - loss: 0.0472 - acc: 0.9952 - val_loss: 0.2622 - val_acc: 0.9504\n"
     ]
    },
    {
     "data": {
      "text/plain": [
       "<tensorflow.python.keras.callbacks.History at 0x7f742c280c18>"
      ]
     },
     "execution_count": 13,
     "metadata": {},
     "output_type": "execute_result"
    }
   ],
   "source": [
    "model = get_2d_conv_model(X_train.shape)\n",
    "model.fit(X_train, y_train_hot, batch_size=100, epochs=12, verbose=True, validation_data=(X_test, y_test_hot), callbacks=[tensorboard_cb])"
   ]
  },
  {
   "cell_type": "code",
   "execution_count": null,
   "metadata": {},
   "outputs": [],
   "source": [
    "%tensorboard --logdir logs/ --bind_all"
   ]
  },
  {
   "cell_type": "code",
   "execution_count": 16,
   "metadata": {},
   "outputs": [
    {
     "data": {
      "text/plain": [
       "'specmodel1584403383'"
      ]
     },
     "execution_count": 16,
     "metadata": {},
     "output_type": "execute_result"
    }
   ],
   "source": [
    "#save the model and stats if you want to use it from the udp listener\n",
    "save_model(model, NAME)\n",
    "np.save(\"stats/{}.npy\".format(NAME), [std, mean]) \n",
    "NAME"
   ]
  },
  {
   "cell_type": "markdown",
   "metadata": {},
   "source": [
    "## Prediction"
   ]
  },
  {
   "cell_type": "code",
   "execution_count": 15,
   "metadata": {},
   "outputs": [
    {
     "name": "stdout",
     "output_type": "stream",
     "text": [
      "shh\n"
     ]
    }
   ],
   "source": [
    "def prep_data(filepath, shape):\n",
    "    sample = wav2spec(filepath, max_sample_length=max_sample_length)\n",
    "    sample = sample.reshape(1, shape[1], shape[2], 1)\n",
    "    sample = (sample - mean)/std\n",
    "    return sample\n",
    "\n",
    "# Predicts one sample\n",
    "def predict(filepath, model):\n",
    "    sample_reshaped = prep_data(filepath, model.input_shape)\n",
    "    return get_labels()[0][\n",
    "            np.argmax(model.predict(sample_reshaped))\n",
    "    ]\n",
    "\n",
    "print(predict('./data/shh/W9M3W3YR15.wav', model=model))"
   ]
  },
  {
   "cell_type": "code",
   "execution_count": null,
   "metadata": {},
   "outputs": [],
   "source": []
  }
 ],
 "metadata": {
  "kernelspec": {
   "display_name": "Python 3",
   "language": "python",
   "name": "python3"
  },
  "language_info": {
   "codemirror_mode": {
    "name": "ipython",
    "version": 3
   },
   "file_extension": ".py",
   "mimetype": "text/x-python",
   "name": "python",
   "nbconvert_exporter": "python",
   "pygments_lexer": "ipython3",
   "version": "3.6.9"
  }
 },
 "nbformat": 4,
 "nbformat_minor": 2
}
